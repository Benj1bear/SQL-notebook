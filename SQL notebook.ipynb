{
 "cells": [
  {
   "cell_type": "code",
   "execution_count": 8,
   "id": "466e0a39",
   "metadata": {},
   "outputs": [
    {
     "name": "stdout",
     "output_type": "stream",
     "text": [
      "ipython-sql is in the pip local python library\n"
     ]
    }
   ],
   "source": [
    "# to unload js refresh the page, to unload sql restart the kernel\n",
    "# if:UsageError: Line magic function `%sql` not found.: then refresh page and import_js\n",
    "import pandas as pd\n",
    "from my_pack import import_js\n",
    "import_js(\"sql.js\")"
   ]
  },
  {
   "cell_type": "code",
   "execution_count": 9,
   "id": "0bdee5ba",
   "metadata": {},
   "outputs": [
    {
     "name": "stdout",
     "output_type": "stream",
     "text": [
      "data.db loaded\n"
     ]
    }
   ],
   "source": [
    "# press Ctrl-shift-L to load a .db file (if it doesn't exist it will create it then load)\n",
    "# i.e. type in data or data.db"
   ]
  },
  {
   "cell_type": "code",
   "execution_count": 10,
   "id": "54303ef5",
   "metadata": {},
   "outputs": [
    {
     "data": {
      "text/plain": [
       "2"
      ]
     },
     "execution_count": 10,
     "metadata": {},
     "output_type": "execute_result"
    }
   ],
   "source": [
    "df=pd.DataFrame([[1,2,3],[1,2,3]])\n",
    "cnn = sql.connect(\"data.db\")\n",
    "# create an sql table in your database\n",
    "df.to_sql('table1', cnn)"
   ]
  },
  {
   "cell_type": "code",
   "execution_count": 12,
   "id": "919a587e",
   "metadata": {},
   "outputs": [
    {
     "name": "stdout",
     "output_type": "stream",
     "text": [
      " * sqlite:///data.db\n",
      "Done.\n"
     ]
    },
    {
     "data": {
      "text/html": [
       "<table>\n",
       "    <thead>\n",
       "        <tr>\n",
       "            <th>index</th>\n",
       "            <th>0</th>\n",
       "            <th>1</th>\n",
       "            <th>2</th>\n",
       "        </tr>\n",
       "    </thead>\n",
       "    <tbody>\n",
       "        <tr>\n",
       "            <td>0</td>\n",
       "            <td>1</td>\n",
       "            <td>2</td>\n",
       "            <td>3</td>\n",
       "        </tr>\n",
       "        <tr>\n",
       "            <td>1</td>\n",
       "            <td>1</td>\n",
       "            <td>2</td>\n",
       "            <td>3</td>\n",
       "        </tr>\n",
       "    </tbody>\n",
       "</table>"
      ],
      "text/plain": [
       "[(0, 1, 2, 3), (1, 1, 2, 3)]"
      ]
     },
     "execution_count": 12,
     "metadata": {},
     "output_type": "execute_result"
    }
   ],
   "source": [
    "-- # sql comments are: -- (single line), /* (multiline) */\n",
    "-- # run using shortcut key else put %%sql # at the top: Ctrl-Shift-Enter to run an entire cell as sql\n",
    "SELECT * FROM table1"
   ]
  },
  {
   "cell_type": "markdown",
   "id": "bb4f9c32",
   "metadata": {},
   "source": [
    "For in-line SQL (run as normal)"
   ]
  },
  {
   "cell_type": "code",
   "execution_count": 13,
   "id": "1244652f",
   "metadata": {},
   "outputs": [
    {
     "name": "stdout",
     "output_type": "stream",
     "text": [
      "4\n",
      " * sqlite:///data.db\n",
      "Done.\n"
     ]
    }
   ],
   "source": [
    "print(4)\n",
    "table = %sql SELECT * FROM table1"
   ]
  },
  {
   "cell_type": "code",
   "execution_count": 14,
   "id": "b3f4f8e0",
   "metadata": {},
   "outputs": [
    {
     "name": "stdout",
     "output_type": "stream",
     "text": [
      "<class 'sql.run.ResultSet'>\n"
     ]
    },
    {
     "data": {
      "text/html": [
       "<table>\n",
       "    <thead>\n",
       "        <tr>\n",
       "            <th>index</th>\n",
       "            <th>0</th>\n",
       "            <th>1</th>\n",
       "            <th>2</th>\n",
       "        </tr>\n",
       "    </thead>\n",
       "    <tbody>\n",
       "        <tr>\n",
       "            <td>0</td>\n",
       "            <td>1</td>\n",
       "            <td>2</td>\n",
       "            <td>3</td>\n",
       "        </tr>\n",
       "        <tr>\n",
       "            <td>1</td>\n",
       "            <td>1</td>\n",
       "            <td>2</td>\n",
       "            <td>3</td>\n",
       "        </tr>\n",
       "    </tbody>\n",
       "</table>"
      ],
      "text/plain": [
       "[(0, 1, 2, 3), (1, 1, 2, 3)]"
      ]
     },
     "execution_count": 14,
     "metadata": {},
     "output_type": "execute_result"
    }
   ],
   "source": [
    "/print type(table)\n",
    "table"
   ]
  },
  {
   "cell_type": "markdown",
   "id": "408066dd",
   "metadata": {},
   "source": [
    "when needing to switch between files\n",
    "\n",
    "For in-line"
   ]
  },
  {
   "cell_type": "code",
   "execution_count": 15,
   "id": "e02681c5",
   "metadata": {},
   "outputs": [
    {
     "name": "stdout",
     "output_type": "stream",
     "text": [
      "Done.\n"
     ]
    },
    {
     "data": {
      "text/html": [
       "<table>\n",
       "    <thead>\n",
       "        <tr>\n",
       "            <th>index</th>\n",
       "            <th>0</th>\n",
       "            <th>1</th>\n",
       "        </tr>\n",
       "    </thead>\n",
       "    <tbody>\n",
       "        <tr>\n",
       "            <td>0</td>\n",
       "            <td>1</td>\n",
       "            <td>2</td>\n",
       "        </tr>\n",
       "        <tr>\n",
       "            <td>1</td>\n",
       "            <td>1</td>\n",
       "            <td>2</td>\n",
       "        </tr>\n",
       "    </tbody>\n",
       "</table>"
      ],
      "text/plain": [
       "[(0, 1, 2), (1, 1, 2)]"
      ]
     },
     "execution_count": 15,
     "metadata": {},
     "output_type": "execute_result"
    }
   ],
   "source": [
    "df=pd.DataFrame([[1,2],[1,2]])\n",
    "cnn = sql.connect(\"data2.db\")\n",
    "# create an sql table in your database\n",
    "df.to_sql('table1', cnn)\n",
    "\n",
    "%sql sqlite:///data2.db SELECT * FROM table1"
   ]
  },
  {
   "cell_type": "markdown",
   "id": "3ced5ea2",
   "metadata": {},
   "source": [
    ""
   ]
  },
  {
   "cell_type": "code",
   "execution_count": 16,
   "id": "29208de7",
   "metadata": {},
   "outputs": [
    {
     "name": "stdout",
     "output_type": "stream",
     "text": [
      "   sqlite:///data.db\n",
      " * sqlite:///data2.db\n",
      "Done.\n"
     ]
    },
    {
     "data": {
      "text/html": [
       "<table>\n",
       "    <thead>\n",
       "        <tr>\n",
       "            <th>index</th>\n",
       "            <th>0</th>\n",
       "            <th>1</th>\n",
       "        </tr>\n",
       "    </thead>\n",
       "    <tbody>\n",
       "        <tr>\n",
       "            <td>0</td>\n",
       "            <td>1</td>\n",
       "            <td>2</td>\n",
       "        </tr>\n",
       "        <tr>\n",
       "            <td>1</td>\n",
       "            <td>1</td>\n",
       "            <td>2</td>\n",
       "        </tr>\n",
       "    </tbody>\n",
       "</table>"
      ],
      "text/plain": [
       "[(0, 1, 2), (1, 1, 2)]"
      ]
     },
     "execution_count": 16,
     "metadata": {},
     "output_type": "execute_result"
    }
   ],
   "source": [
    "-- # use shortcut key\n",
    "\n",
    "SELECT * FROM table1"
   ]
  },
  {
   "cell_type": "code",
   "execution_count": null,
   "id": "37eddf65",
   "metadata": {},
   "outputs": [],
   "source": []
  }
 ],
 "metadata": {
  "kernelspec": {
   "display_name": "Python 3 (ipykernel)",
   "language": "python",
   "name": "python3"
  },
  "language_info": {
   "codemirror_mode": {
    "name": "ipython",
    "version": 3
   },
   "file_extension": ".py",
   "mimetype": "text/x-python",
   "name": "python",
   "nbconvert_exporter": "python",
   "pygments_lexer": "ipython3",
   "version": "3.11.5"
  }
 },
 "nbformat": 4,
 "nbformat_minor": 5
}
